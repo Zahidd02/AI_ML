{
 "cells": [
  {
   "cell_type": "markdown",
   "id": "7d6d0b96",
   "metadata": {},
   "source": [
    "## Run the following commands beforehand to set up labelImg software:\n",
    "1. git clone https://github.com/heartexlabs/labelImg \n",
    "\n",
    "2. python -m venv env :: new environment creation named 'env'\n",
    "\n",
    "3. env\\Scripts\\activate :: activating new environment\n",
    "\n",
    "4. python.exe -m pip install --upgrade pip :: upgrading pip\n",
    "\n",
    "5. pip install --upgrade notebook :: installing Jupyter notebook\n",
    "\n",
    "6. pip install PyQt5 :: installing PyQt5\n",
    "\n",
    "7. cd labelImg => pyrcc5 -o libs/resources.py resources.qrc :: change directory to labelImg then run the next command\n",
    "\n",
    "8. pip install ipykernel\n",
    "\n",
    "9. python -m ipykernel install --user --name=env :: connecting the 'env' environment to Jupyter notebook\n",
    "\n",
    "10. pip install lxml\n",
    "\n",
    "11. jupyter notebook\n"
   ]
  },
  {
   "cell_type": "code",
   "execution_count": 1,
   "id": "f12e8b20",
   "metadata": {},
   "outputs": [],
   "source": [
    "!cd labelImg && python labelImg.py"
   ]
  }
 ],
 "metadata": {
  "kernelspec": {
   "display_name": "env",
   "language": "python",
   "name": "env"
  },
  "language_info": {
   "codemirror_mode": {
    "name": "ipython",
    "version": 3
   },
   "file_extension": ".py",
   "mimetype": "text/x-python",
   "name": "python",
   "nbconvert_exporter": "python",
   "pygments_lexer": "ipython3",
   "version": "3.11.2"
  }
 },
 "nbformat": 4,
 "nbformat_minor": 5
}
