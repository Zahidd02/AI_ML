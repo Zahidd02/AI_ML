{
 "cells": [
  {
   "cell_type": "markdown",
   "id": "38ca28b3",
   "metadata": {},
   "source": [
    "## Run following commands beforehand to set up labelImg software:\n",
    "1. python -m venv env :: creates new 'env' environment\n",
    "2. env\\Scripts\\activate :: activates new environment\n",
    "3. python.exe -m pip install --upgrade pip :: upgrading pip\n",
    "4. pip install --upgrade notebook :: installing Jupyter notebook\n",
    "5. pip install ipykernel \n",
    "6. python -m ipykernel install --user --name=env :: connecting 'env' environment to Jupyter notebook\n",
    "7. pip install PyQt5\n",
    "8. pip install lxml\n",
    "9. jupyter notebook :: to open Jupyter notebook"
   ]
  },
  {
   "cell_type": "code",
   "execution_count": 1,
   "id": "ac208029",
   "metadata": {},
   "outputs": [
    {
     "name": "stderr",
     "output_type": "stream",
     "text": [
      "Cloning into 'labelImg'...\n"
     ]
    }
   ],
   "source": [
    "!git clone https://github.com/heartexlabs/labelImg"
   ]
  },
  {
   "cell_type": "code",
   "execution_count": 2,
   "id": "6885ae38",
   "metadata": {},
   "outputs": [],
   "source": [
    "!cd labelImg && pyrcc5 -o libs/resources.py resources.qrc "
   ]
  },
  {
   "cell_type": "code",
   "execution_count": 3,
   "id": "8f5ddb79",
   "metadata": {},
   "outputs": [],
   "source": [
    "!cd labelImg && python labelImg.py"
   ]
  }
 ],
 "metadata": {
  "kernelspec": {
   "display_name": "env",
   "language": "python",
   "name": "env"
  },
  "language_info": {
   "codemirror_mode": {
    "name": "ipython",
    "version": 3
   },
   "file_extension": ".py",
   "mimetype": "text/x-python",
   "name": "python",
   "nbconvert_exporter": "python",
   "pygments_lexer": "ipython3",
   "version": "3.11.2"
  }
 },
 "nbformat": 4,
 "nbformat_minor": 5
}
